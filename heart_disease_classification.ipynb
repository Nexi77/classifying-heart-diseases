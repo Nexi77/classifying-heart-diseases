{
 "cells": [
  {
   "cell_type": "markdown",
   "id": "3002b8c2-7da0-4674-a5af-acda48767a1f",
   "metadata": {},
   "source": [
    "# Predicting heart disease using ML\n",
    "\n",
    "This notebook looks into using various Python-based ML and DS libraries in an attempt to build ML model capable of predicting wheter or not someone has heart disease based on their medical attributes.\n",
    "\n",
    "I am going to take the following apporach:\n",
    "![](images/framework.png)"
   ]
  },
  {
   "cell_type": "markdown",
   "id": "2bb8aa8b-f8fd-4767-ac05-6ba5443c54b6",
   "metadata": {
    "jp-MarkdownHeadingCollapsed": true
   },
   "source": [
    "## 1. Problem definition"
   ]
  },
  {
   "cell_type": "markdown",
   "id": "0172fc38-28c8-4c50-9804-558b0d7b923c",
   "metadata": {},
   "source": [
    "In a statement,\n",
    "> Given clinical parameters about  patient, can we predict wheter or not they have heart disease?\n",
    "\n",
    "**Context**\n",
    "\n",
    "This is a multivariate type of dataset which means providing or involving a variety of separate mathematical or statistical variables, multivariate numerical data analysis. It is composed of 14 attributes which are age, sex, chest pain type, resting blood pressure, serum cholesterol, fasting blood sugar, resting electrocardiographic results, maximum heart rate achieved, exercise-induced angina, oldpeak — ST depression induced by exercise relative to rest, the slope of the peak exercise ST segment, number of major vessels and Thalassemia. This database includes 76 attributes, but all published studies relate to the use of a subset of 14 of them. The Cleveland database is the only one used by ML researchers to date. One of the major tasks on this dataset is to predict based on the given attributes of a patient that whether that particular person has heart disease or not and other is the experimental task to diagnose and find out various insights from this dataset which could help in understanding the problem more."
   ]
  },
  {
   "cell_type": "markdown",
   "id": "e7884eea-061c-4cec-b2af-e960cb582ffa",
   "metadata": {
    "jp-MarkdownHeadingCollapsed": true
   },
   "source": [
    "## 2. Data"
   ]
  },
  {
   "cell_type": "markdown",
   "id": "53568cd5-1450-4b87-9a34-9f8565ac51b5",
   "metadata": {},
   "source": [
    "https://www.kaggle.com/datasets/redwankarimsony/heart-disease-data\n",
    "\n",
    "**Column Descriptions:**\n",
    "\n",
    "1. id (Unique id for each patient)\n",
    "2. age (Age of the patient in years)\n",
    "3. origin (place of study)\n",
    "4. sex (Male/Female)\n",
    "5. cp chest pain type ([typical angina, atypical angina, non-anginal, asymptomatic])\n",
    "6. trestbps resting blood pressure (resting blood pressure (in mm Hg on admission to the hospital))\n",
    "7. chol (serum cholesterol in mg/dl)\n",
    "8. fbs (if fasting blood sugar > 120 mg/dl)\n",
    "9. restecg (resting electrocardiographic results)\n",
    "-- Values: [normal, stt abnormality, lv hypertrophy]\n",
    "10. thalach: maximum heart rate achieved\n",
    "11. exang: exercise-induced angina (True/ False)\n",
    "12. oldpeak: ST depression induced by exercise relative to rest\n",
    "13. slope: the slope of the peak exercise ST segment\n",
    "14. ca: number of major vessels (0-3) colored by fluoroscopy\n",
    "15. thal: [normal; fixed defect; reversible defect]\n",
    "16. num: the predicted attribute\n",
    "\n",
    "**Acknowledgements**\n",
    "\n",
    "Creators:\n",
    "\n",
    "- Hungarian Institute of Cardiology. Budapest: Andras Janosi, M.D.\n",
    "- University Hospital, Zurich, Switzerland: William Steinbrunn, M.D.\n",
    "- University Hospital, Basel, Switzerland: Matthias Pfisterer, M.D.\n",
    "- V.A. Medical Center, Long Beach and Cleveland Clinic Foundation: Robert Detrano, M.D., Ph.D.\n",
    "- \n",
    "Relevant Papers:\n",
    "\n",
    "* Detrano, R., Janosi, A., Steinbrunn, W., Pfisterer, M., Schmid, J., Sandhu, S., Guppy, K., Lee, S., & Froelicher, V. (1989). International application of a new probability algorithm for the diagnosis of coronary artery disease. American Journal of Cardiology, 64,304--310.\n",
    "* David W. Aha & Dennis Kibler. \"Instance-based prediction of heart-disease presence with the Cleveland database.\" Web Link\n",
    "Gennari, J.H., Langley, P, & Fisher, D. (1989). Models of incremental concept formation. Artificial Intelligence, 40, 11--61. Web Link\n",
    "\n",
    "**Citation Request:**\n",
    "\n",
    "The authors of the databases have requested that any publications resulting from the use of the data include the names of the principal investigator responsible for the data collection at each institution. They would be:\n",
    "\n",
    "* Hungarian Institute of Cardiology. Budapest: Andras Janosi, M.D.\n",
    "* University Hospital, Zurich, Switzerland: William Steinbrunn, M.D.\n",
    "* University Hospital, Basel, Switzerland: Matthias Pfisterer, M.D.\n",
    "* V.A. Medical Center, Long Beach and Cleveland Clinic Foundation:Robert Detrano, M.D., Ph.D."
   ]
  },
  {
   "cell_type": "markdown",
   "id": "4717ee02-9cfb-4643-99b3-8bcb02581350",
   "metadata": {
    "jp-MarkdownHeadingCollapsed": true
   },
   "source": [
    "## 3. Evaluation"
   ]
  },
  {
   "cell_type": "markdown",
   "id": "54f283f5-51a6-401f-b24f-a89f8b1089d5",
   "metadata": {},
   "source": [
    "Example of setting basic score I or the team want to get when in POC fase.\n",
    "\n",
    "> If we can reach 95% accuracy at predicting wheter or not a patient has heart disease during proof of concept, we'll pursue the project"
   ]
  },
  {
   "cell_type": "markdown",
   "id": "67c9cc2e-78ce-42f1-a1f4-278e331a267b",
   "metadata": {},
   "source": [
    "## 4. Features"
   ]
  },
  {
   "cell_type": "markdown",
   "id": "d5396924-c3ef-4811-9863-e7e0a3bcf31f",
   "metadata": {},
   "source": [
    "This is where I get different information about each of the features in the data\n",
    "\n",
    "**Data dictionary:**\n",
    "\n",
    "1. age (Age of the patient in years)\n",
    "2. origin (place of study)\n",
    "3. sex (Male/Female)\n",
    "4. cp chest pain type ([typical angina, atypical angina, non-anginal, asymptomatic])\n",
    "5. trestbps resting blood pressure (resting blood pressure (in mm Hg on admission to the hospital))\n",
    "6. chol (serum cholesterol in mg/dl)\n",
    "7. fbs (if fasting blood sugar > 120 mg/dl)\n",
    "8. restecg (resting electrocardiographic results)\n",
    "-- Values: [normal, stt abnormality, lv hypertrophy]\n",
    "9. thalach: maximum heart rate achieved\n",
    "10. exang: exercise-induced angina (True/ False)\n",
    "11. oldpeak: ST depression induced by exercise relative to rest\n",
    "12. slope: the slope of the peak exercise ST segment\n",
    "13. ca: number of major vessels (0-3) colored by fluoroscopy\n",
    "14. thal: [normal; fixed defect; reversible defect]"
   ]
  },
  {
   "cell_type": "code",
   "execution_count": null,
   "id": "ee0981be-4b17-4c76-8445-94deb37cc299",
   "metadata": {},
   "outputs": [],
   "source": []
  }
 ],
 "metadata": {
  "kernelspec": {
   "display_name": "Python 3 (ipykernel)",
   "language": "python",
   "name": "python3"
  },
  "language_info": {
   "codemirror_mode": {
    "name": "ipython",
    "version": 3
   },
   "file_extension": ".py",
   "mimetype": "text/x-python",
   "name": "python",
   "nbconvert_exporter": "python",
   "pygments_lexer": "ipython3",
   "version": "3.11.11"
  }
 },
 "nbformat": 4,
 "nbformat_minor": 5
}
